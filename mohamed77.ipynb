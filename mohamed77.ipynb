{
 "cells": [
  {
   "cell_type": "code",
   "execution_count": null,
   "id": "29e2465c",
   "metadata": {},
   "outputs": [],
   "source": [
    "import numpy as np #import numpy"
   ]
  },
  {
   "cell_type": "code",
   "execution_count": null,
   "id": "96a1f15c",
   "metadata": {},
   "outputs": [],
   "source": [
    "#input for user\n",
    "num_student = int(input(\"What is the number of student : \"))\n",
    "num_subjects = int(input(\"What is the number of subjects : \"))\n",
    "\n",
    "marks =np.zeros((num_student,num_subjects))\n",
    "\n",
    "\n",
    "for i in range(num_student):\n",
    "    print(\"Enter marks for student\", i+1)\n",
    "    for j in range(num_subjects):\n",
    "        marks[i][j] = float(input(\"Enter mark for subject \"+str(j+1)+\": \"))\n",
    "        \n",
    "total_marks = np.sum(marks ,axis=1)\n",
    "\n",
    "percentage = (total_marks / (num_subjects* 100)) * 100\n",
    "\n",
    "grade = np.where(percentage <= 90 ,'A+',np.where(percentage <= 80, 'A', np.where(percentage <= 70 ,'B+',np.where(percentage <=60,'B','F'))))\n",
    "\n",
    "print(\"Student\\tTotal Marks\\tPercentage\\tGrade\")\n",
    "for i in range(num_student):\n",
    "    print(str(i+1)+\"\\t\"+str(total_marks[i])+\"\\t\\t\"+str(percentage[i])+\"%\\t\\t\"+grade[i])\n",
    "    "
   ]
  },
  {
   "cell_type": "code",
   "execution_count": null,
   "id": "119c0ba2",
   "metadata": {},
   "outputs": [],
   "source": []
  },
  {
   "cell_type": "code",
   "execution_count": null,
   "id": "7ab95e4b",
   "metadata": {},
   "outputs": [],
   "source": []
  },
  {
   "cell_type": "code",
   "execution_count": null,
   "id": "d943b61e",
   "metadata": {},
   "outputs": [],
   "source": []
  },
  {
   "cell_type": "code",
   "execution_count": null,
   "id": "2b98b077",
   "metadata": {},
   "outputs": [],
   "source": []
  },
  {
   "cell_type": "code",
   "execution_count": null,
   "id": "9bd99c0a",
   "metadata": {},
   "outputs": [],
   "source": []
  },
  {
   "cell_type": "code",
   "execution_count": null,
   "id": "34e6f720",
   "metadata": {},
   "outputs": [],
   "source": []
  },
  {
   "cell_type": "code",
   "execution_count": null,
   "id": "27523c96",
   "metadata": {},
   "outputs": [],
   "source": []
  }
 ],
 "metadata": {
  "kernelspec": {
   "display_name": "Python 3 (ipykernel)",
   "language": "python",
   "name": "python3"
  },
  "language_info": {
   "codemirror_mode": {
    "name": "ipython",
    "version": 3
   },
   "file_extension": ".py",
   "mimetype": "text/x-python",
   "name": "python",
   "nbconvert_exporter": "python",
   "pygments_lexer": "ipython3",
   "version": "3.10.9"
  }
 },
 "nbformat": 4,
 "nbformat_minor": 5
}
